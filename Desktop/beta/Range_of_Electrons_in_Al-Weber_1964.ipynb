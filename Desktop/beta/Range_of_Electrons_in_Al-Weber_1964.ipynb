{
  "cells": [
    {
      "cell_type": "markdown",
      "metadata": {
        "id": "4QVxyTMjMgk1"
      },
      "source": [
        "Calculating the range of Electrons in Al\n",
        "Source: \n",
        "\n",
        "https://doi.org/10.1016/0029-554X(63)90196-4\n",
        "\n",
        "\"Eine einfache reichweite-energie-beziehung für elektronen im energiebereich von 3 keV bis 3 MeV\"\n",
        "K-H. Weber, Nucl. Instr. and Methods, vol 25, 1964, Pages 261-264"
      ]
    },
    {
      "cell_type": "code",
      "execution_count": 168,
      "metadata": {},
      "outputs": [],
      "source": [
        "from sklearn.linear_model import LinearRegression"
      ]
    },
    {
      "cell_type": "code",
      "execution_count": 169,
      "metadata": {
        "id": "fcSY3aj5aG3N"
      },
      "outputs": [],
      "source": [
        "def Range(A,B,C,E):\n",
        "  return A*E*(1-B/(1+C*E))"
      ]
    },
    {
      "cell_type": "code",
      "execution_count": 170,
      "metadata": {
        "id": "lVjzUBQkCKcz"
      },
      "outputs": [],
      "source": [
        "a=1.479*0.001\n",
        "B=0.9852\n",
        "C=3.73\n",
        "A=1/a"
      ]
    },
    {
      "cell_type": "code",
      "execution_count": 171,
      "metadata": {
        "id": "mrAH66B3BhAL"
      },
      "outputs": [],
      "source": [
        "import numpy as np\n",
        "energie = np.linspace(0.001,3,100)\n"
      ]
    },
    {
      "cell_type": "code",
      "execution_count": 172,
      "metadata": {
        "colab": {
          "base_uri": "https://localhost:8080/",
          "height": 283
        },
        "id": "RCwwGTCSBo5k",
        "outputId": "09d974d3-5a43-4ab3-9c23-bead887629e5"
      },
      "outputs": [
        {
          "data": {
            "image/png": "[encoded data removed]",
            "text/plain": [
              "<Figure size 432x288 with 1 Axes>"
            ]
          },
          "metadata": {
            "needs_background": "light"
          },
          "output_type": "display_data"
        }
      ],
      "source": [
        "import matplotlib.pyplot as plt\n",
        "plt.loglog(Range(A,B,C,energie),energie)\n",
        "plt.grid(True, which=\"both\", ls=\"-\")\n",
        "plt.ylabel(\"Electron Energy (MeV)\")\n",
        "plt.xlabel(\"Range in Al (mg*cm^(-2))\")\n",
        "plt.show()"
      ]
    },
    {
      "cell_type": "code",
      "execution_count": 173,
      "metadata": {
        "colab": {
          "base_uri": "https://localhost:8080/"
        },
        "id": "Ug19ToK8CgdK",
        "outputId": "66d7203c-c796-4ab3-fa58-17c92571c3a6"
      },
      "outputs": [
        {
          "data": {
            "text/plain": [
              "19.09717349028669"
            ]
          },
          "execution_count": 173,
          "metadata": {},
          "output_type": "execute_result"
        }
      ],
      "source": [
        "Range(A,B,C,0.1)"
      ]
    },
    {
      "cell_type": "code",
      "execution_count": 174,
      "metadata": {},
      "outputs": [],
      "source": [
        "def lin(x,y):\n",
        "    x = x.reshape(-1, 1)  # reshape in 2D-Array for sklearn\n",
        "    model = LinearRegression()\n",
        "    model.fit(x, y)\n",
        "    \n",
        "    return model"
      ]
    },
    {
      "cell_type": "code",
      "execution_count": null,
      "metadata": {
        "id": "BfLtDlZTB89r"
      },
      "outputs": [
        {
          "name": "stdout",
          "output_type": "stream",
          "text": [
            "Plateau auf y= [4914.19136961]\n"
          ]
        },
        {
          "data": {
            "image/png": "[encoded data removed]",
            "text/plain": [
              "<Figure size 432x288 with 1 Axes>"
            ]
          },
          "metadata": {
            "needs_background": "light"
          },
          "output_type": "display_data"
        }
      ],
      "source": [
        "x = np.array([100,200,300,400,500,600,700,800,900,960])\n",
        "y= np.array([0,0,0,4080,4693,4879,4932,4921,4862,4985])\n",
        "\n",
        "index=5\n",
        "lin_x = (x[index:]).reshape(-1,1)\n",
        "model=  lin(lin_x,y[index:])\n",
        "lin_y=model.predict(lin_x)\n",
        "plt.xlabel('sbjhk')\n",
        "plt.plot(x,y,'--')\n",
        "plt.plot(lin_x,lin_y)\n",
        "\n",
        "mitte = model.intercept_+ model.coef_[0]*(lin_x[0]+lin_x[-1])/2\n",
        "print('Plateau auf y=',mitte)\n",
        "#plt.axhline(y=mitte,c='red')"
      ]
    },
    {
      "cell_type": "code",
      "execution_count": null,
      "metadata": {},
      "outputs": [],
      "source": []
    },
    {
      "cell_type": "code",
      "execution_count": 176,
      "metadata": {},
      "outputs": [
        {
          "data": {
            "text/plain": [
              "[0.0,\n",
              " 67.25,\n",
              " 134.5,\n",
              " 269.0,\n",
              " 336.25,\n",
              " 403.49999999999994,\n",
              " 470.74999999999994,\n",
              " 538.0,\n",
              " 605.25,\n",
              " 672.5,\n",
              " 739.75,\n",
              " 806.9999999999999,\n",
              " 941.4999999999999,\n",
              " 1076.0]"
            ]
          },
          "execution_count": 176,
          "metadata": {},
          "output_type": "execute_result"
        }
      ],
      "source": [
        "x_mm =[0.0, 0.025, 0.05, 0.1, 0.125, 0.15, 0.175, 0.2, 0.225, 0.25, 0.275, 0.3, 0.35, 0.4]\n",
        "epsilon = 0.0018\n",
        "rho_Al_x = [2.69*x*1000 for x in x_mm]\n",
        "N = [5005, 3124, 2018, 1115, 739, 469, 346, 191, 116, 78, 49, 42, 26, 21]\n",
        "N_bg= 67\n",
        "N_eff = [x-N_bg for x in N]\n",
        "t=60\n",
        "\n",
        "\n",
        "\n",
        "A= []\n",
        "for i in range(len(N)):\n",
        "    A.append((N[i]-N_bg) / (t*epsilon))\n",
        "\n",
        "\n",
        "rho_Al_x"
      ]
    },
    {
      "cell_type": "code",
      "execution_count": 182,
      "metadata": {},
      "outputs": [
        {
          "name": "stdout",
          "output_type": "stream",
          "text": [
            "gradient -17.203265781827508\n"
          ]
        },
        {
          "data": {
            "image/png": "[encoded data removed]",
            "text/plain": [
              "<Figure size 432x288 with 1 Axes>"
            ]
          },
          "metadata": {
            "needs_background": "light"
          },
          "output_type": "display_data"
        }
      ],
      "source": [
        "import math\n",
        "\n",
        "# Logarithmus von 100 zur Basis 10 (sollte 2 sein)\n",
        "#print(math.log(, 2)) \n",
        "\n",
        "x_mm=x_mm[:8]\n",
        "x_mm=np.array(x_mm).reshape(-1, 1)\n",
        "N_eff_log = [math.log(x, math.e) for x in N_eff[:8]]\n",
        "\n",
        "model=  lin(np.array(x_mm[:10]),N_eff_log)\n",
        "\n",
        "\n",
        "plt.plot(x_mm,N_eff_log)\n",
        "plt.plot(x_mm,model.predict(x_mm),c='r')\n",
        "print('gradient',model.coef_[0])"
      ]
    }
  ],
  "metadata": {
    "colab": {
      "collapsed_sections": [],
      "provenance": []
    },
    "kernelspec": {
      "display_name": "Python 3",
      "name": "python3"
    },
    "language_info": {
      "codemirror_mode": {
        "name": "ipython",
        "version": 3
      },
      "file_extension": ".py",
      "mimetype": "text/x-python",
      "name": "python",
      "nbconvert_exporter": "python",
      "pygments_lexer": "ipython3",
      "version": "3.10.5"
    }
  },
  "nbformat": 4,
  "nbformat_minor": 0
}
